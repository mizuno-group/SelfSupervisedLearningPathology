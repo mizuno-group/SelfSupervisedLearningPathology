{
 "cells": [
  {
   "cell_type": "markdown",
   "metadata": {},
   "source": [
    "# Preprocessing of information"
   ]
  },
  {
   "cell_type": "code",
   "execution_count": null,
   "metadata": {},
   "outputs": [],
   "source": [
    "# folder\n",
    "root = \"/workspace/tggate\"\n",
    "\n",
    "# seed for control sampling\n",
    "seed=24771\n",
    "\n",
    "# path for data folders\n",
    "ORIGINAL_DIR = f\"{root}/data/original\"\n",
    "PROCESSED_DIR = f\"{root}/data/processed\""
   ]
  },
  {
   "cell_type": "code",
   "execution_count": null,
   "metadata": {},
   "outputs": [],
   "source": [
    "# load\n",
    "df = pd.read_csv(f\"{root}/data/tggate_info_ext.csv\")\n",
    "finding_lst = [line.rstrip() for line in open(f\"{root}/data/processed/finding_lst.txt\", \"r\")]"
   ]
  },
  {
   "cell_type": "code",
   "execution_count": null,
   "metadata": {},
   "outputs": [],
   "source": [
    "# data set\n",
    "temp = set(df.columns.tolist()) & set(finding_lst)\n",
    "df = df.loc[:,list(temp)+[\"FOLD\",\"DOSE_LEVEL\"]]"
   ]
  },
  {
   "cell_type": "code",
   "execution_count": null,
   "metadata": {},
   "outputs": [],
   "source": [
    "# export\n",
    "df.to_csv(f\"{root}/data/processed/finding.csv\", index=False)"
   ]
  },
  {
   "cell_type": "markdown",
   "metadata": {},
   "source": [
    "# Evaluate"
   ]
  },
  {
   "cell_type": "code",
   "execution_count": null,
   "metadata": {},
   "outputs": [],
   "source": []
  },
  {
   "cell_type": "markdown",
   "metadata": {},
   "source": [
    "# Plot"
   ]
  },
  {
   "cell_type": "code",
   "execution_count": null,
   "metadata": {},
   "outputs": [],
   "source": []
  }
 ],
 "metadata": {
  "kernelspec": {
   "display_name": "base",
   "language": "python",
   "name": "python3"
  },
  "language_info": {
   "name": "python",
   "version": "3.10.11"
  }
 },
 "nbformat": 4,
 "nbformat_minor": 2
}
