{
 "cells": [
  {
   "cell_type": "markdown",
   "metadata": {},
   "source": [
    "# Create subset dataset of Open TG-GATEs"
   ]
  },
  {
   "cell_type": "code",
   "execution_count": 1,
   "metadata": {},
   "outputs": [],
   "source": [
    "import random\n",
    "import gc\n",
    "import collections\n",
    "import datetime\n",
    "import sys\n",
    "from tqdm import tqdm\n",
    "\n",
    "import numpy as np\n",
    "import pandas as pd\n",
    "import matplotlib.pyplot as plt\n",
    "from sklearn.model_selection import GroupKFold\n",
    "\n",
    "root = \"/workspace/tggate\"\n",
    "seed=24771\n",
    "\n",
    "random.seed(seed)"
   ]
  },
  {
   "cell_type": "code",
   "execution_count": 2,
   "metadata": {},
   "outputs": [
    {
     "name": "stdout",
     "output_type": "stream",
     "text": [
      "2024/01/11 16:53:23\n"
     ]
    }
   ],
   "source": [
    "print(datetime.datetime.today().strftime(\"%Y/%m/%d %H:%M:%S\"))"
   ]
  },
  {
   "cell_type": "code",
   "execution_count": 3,
   "metadata": {},
   "outputs": [
    {
     "name": "stdout",
     "output_type": "stream",
     "text": [
      "(23873, 311)\n",
      "(23317, 311)\n"
     ]
    },
    {
     "name": "stderr",
     "output_type": "stream",
     "text": [
      "/tmp/ipykernel_60599/863299380.py:2: DtypeWarning: Columns (6) have mixed types. Specify dtype option on import or set low_memory=False.\n",
      "  info_df = pd.read_csv(f\"{root}/data/processed/info.csv\")\n"
     ]
    }
   ],
   "source": [
    "# load\n",
    "info_df = pd.read_csv(f\"{root}/data/processed/info.csv\")\n",
    "print(info_df.shape)\n",
    "info_df = info_df.dropna(subset=[\"FILE\"])\n",
    "print(info_df.shape)\n",
    "info_df[\"GROUP\"] = 100 * info_df[\"EXP_ID\"] + info_df[\"GROUP_ID\"]\n",
    "lst_compounds=[line.rstrip() for line in open(f\"{root}/data/processed/compound_list.txt\", \"r\")]\n",
    "lst_findings=[line.rstrip() for line in open(f\"{root}/data/processed/finding_lst.txt\", \"r\")]"
   ]
  },
  {
   "cell_type": "code",
   "execution_count": 4,
   "metadata": {},
   "outputs": [],
   "source": [
    "# remove scar and dead from findings\n",
    "lst_findings.remove(\"Scar\")\n",
    "lst_findings.remove(\"DEAD\")"
   ]
  },
  {
   "cell_type": "code",
   "execution_count": 5,
   "metadata": {},
   "outputs": [
    {
     "name": "stdout",
     "output_type": "stream",
     "text": [
      "3857\n",
      "Counter({'High': 1883, 'Middle': 1128, 'Low': 543, 'Control': 303})\n"
     ]
    }
   ],
   "source": [
    "print((info_df.loc[:,lst_findings].sum(axis=1)>0).sum())\n",
    "print(collections.Counter(info_df[info_df.loc[:,lst_findings].sum(axis=1)>0][\"DOSE_LEVEL\"].tolist()))"
   ]
  },
  {
   "cell_type": "code",
   "execution_count": 6,
   "metadata": {},
   "outputs": [],
   "source": [
    "# at least one finding label samples\n",
    "df_true=info_df[info_df.loc[:,lst_findings].sum(axis=1)>0].copy()"
   ]
  },
  {
   "cell_type": "code",
   "execution_count": 7,
   "metadata": {},
   "outputs": [
    {
     "data": {
      "image/png": "[encoded data removed]",
      "text/plain": [
       "<Figure size 640x480 with 1 Axes>"
      ]
     },
     "metadata": {},
     "output_type": "display_data"
    }
   ],
   "source": [
    "plt.hist(df_true.loc[:,lst_findings].sum(), color=\"firebrick\", bins=100)\n",
    "plt.show()"
   ]
  },
  {
   "cell_type": "code",
   "execution_count": 8,
   "metadata": {},
   "outputs": [
    {
     "data": {
      "text/plain": [
       "4274"
      ]
     },
     "execution_count": 8,
     "metadata": {},
     "output_type": "execute_result"
    }
   ],
   "source": [
    "# one sample from each group\n",
    "df_false_all=info_df[info_df.loc[:,lst_findings].sum(axis=1)==0].copy()\n",
    "lst_group=list(set(df_false_all[\"GROUP\"].tolist()))\n",
    "len(lst_group)"
   ]
  },
  {
   "cell_type": "code",
   "execution_count": 9,
   "metadata": {},
   "outputs": [
    {
     "name": "stderr",
     "output_type": "stream",
     "text": [
      "100%|██████████| 4274/4274 [00:02<00:00, 2021.90it/s]\n"
     ]
    }
   ],
   "source": [
    "# extract samples (one sample for each group)\n",
    "df_false=list()\n",
    "for group in tqdm(lst_group):\n",
    "    df_temp = pd.DataFrame(df_false_all[df_false_all[\"GROUP\"]==group])\n",
    "    df_false.append(df_temp.iloc[random.sample(range(df_temp.shape[0]),1),:])\n",
    "df_false=pd.concat(df_false, axis=0)"
   ]
  },
  {
   "cell_type": "code",
   "execution_count": 10,
   "metadata": {},
   "outputs": [
    {
     "name": "stdout",
     "output_type": "stream",
     "text": [
      "Counter({'Control': 1182, 'Low': 1136, 'Middle': 1050, 'High': 906})\n"
     ]
    }
   ],
   "source": [
    "print(collections.Counter(df_false[\"DOSE_LEVEL\"].tolist()))"
   ]
  },
  {
   "cell_type": "code",
   "execution_count": 11,
   "metadata": {},
   "outputs": [],
   "source": [
    "def make_groupkfold(group_col, n_splits:int=5):\n",
    "    temp_arr = np.zeros((len(group_col),1))\n",
    "    kfold = GroupKFold(n_splits = n_splits).split(temp_arr, groups=group_col)\n",
    "    kfold_arr = np.zeros((len(group_col),1), dtype=int)\n",
    "    for n, (tr_ind, val_ind) in enumerate(kfold):\n",
    "        kfold_arr[val_ind]=int(n)\n",
    "    return kfold_arr\n",
    "\n",
    "def set_dir(lst_time, lst_file):\n",
    "    lst_dir=[]\n",
    "    for time, filename in zip(lst_time, lst_file):\n",
    "        if \"hr\" in time:\n",
    "            folder=\"/workspace/HDD2/TGGATEs/WSI/Liver\" #change to your dir\n",
    "        else:\n",
    "            folder=\"/workspace/HDD1/TGGATEs/WSI/Liver\" #change to your dir\n",
    "        time2=time.replace(\" \", \"_\")\n",
    "        lst_dir.append(f\"{folder}/{time2}/{filename}\")\n",
    "    return lst_dir\n",
    "    \n",
    "n_splits=5"
   ]
  },
  {
   "cell_type": "code",
   "execution_count": 12,
   "metadata": {},
   "outputs": [],
   "source": [
    "# concat\n",
    "df_all=pd.concat([df_true, df_false], axis=0)\n",
    "# Set folder\n",
    "df_all[\"DIR\"]=set_dir(df_all[\"SACRI_PERIOD\"].tolist(), df_all[\"FILE\"].tolist())\n",
    "# Set Folding\n",
    "df_all[\"FOLD\"]=make_groupkfold(\n",
    "    df_all[\"GROUP\"], n_splits=n_splits\n",
    ")"
   ]
  },
  {
   "cell_type": "code",
   "execution_count": 13,
   "metadata": {},
   "outputs": [
    {
     "name": "stdout",
     "output_type": "stream",
     "text": [
      "2024/01/11 16:53:30\n"
     ]
    }
   ],
   "source": [
    "# export\n",
    "df_all.to_csv(f\"{root}/data/tggate_info_ext.csv\", index=False)\n",
    "print(datetime.datetime.today().strftime(\"%Y/%m/%d %H:%M:%S\"))"
   ]
  },
  {
   "cell_type": "code",
   "execution_count": 14,
   "metadata": {},
   "outputs": [],
   "source": [
    "# file location\n",
    "lst_time=list(set(df_all[\"SACRI_PERIOD\"]))\n",
    "for time in lst_time:\n",
    "    df_temp = df_all[df_all[\"SACRI_PERIOD\"]==time]\n",
    "    time2=time.replace(\" \", \"_\")\n",
    "    df_temp[\"FILE_LOCATION\"].to_csv(f\"{root}/data/filelocation/{time2}.txt\", index=False)"
   ]
  }
 ],
 "metadata": {
  "kernelspec": {
   "display_name": "base",
   "language": "python",
   "name": "python3"
  },
  "language_info": {
   "codemirror_mode": {
    "name": "ipython",
    "version": 3
   },
   "file_extension": ".py",
   "mimetype": "text/x-python",
   "name": "python",
   "nbconvert_exporter": "python",
   "pygments_lexer": "ipython3",
   "version": "3.10.11"
  }
 },
 "nbformat": 4,
 "nbformat_minor": 2
}
