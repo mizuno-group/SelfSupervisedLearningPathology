{
 "cells": [
  {
   "cell_type": "markdown",
   "metadata": {},
   "source": [
    "# Preprocessing of information"
   ]
  },
  {
   "cell_type": "code",
   "execution_count": null,
   "metadata": {},
   "outputs": [],
   "source": [
    "# folder\n",
    "root = \"/workspace/tggate\"\n",
    "\n",
    "# seed for control sampling\n",
    "seed=24771\n",
    "\n",
    "# path for data folders\n",
    "ORIGINAL_DIR = f\"{root}/data/original\"\n",
    "PROCESSED_DIR = f\"{root}/data/processed\""
   ]
  },
  {
   "cell_type": "code",
   "execution_count": null,
   "metadata": {},
   "outputs": [],
   "source": [
    "import sys\n",
    "import copy\n",
    "from collections import defaultdict\n",
    "import datetime\n",
    "import pandas as pd\n",
    "import numpy as np\n"
   ]
  },
  {
   "cell_type": "code",
   "execution_count": null,
   "metadata": {},
   "outputs": [],
   "source": [
    "# load\n",
    "info = pd.read_csv(f\"{root}/data/tggate_info_ext.csv\")\n",
    "lst_finding = [line.rstrip() for line in open(f\"{root}/data/processed/finding_lst.txt\", \"r\")]"
   ]
  },
  {
   "cell_type": "code",
   "execution_count": null,
   "metadata": {},
   "outputs": [],
   "source": [
    "# preprocessing\n",
    "lst_finding = list(set(lst_finding)&set(info.columns))\n",
    "test_info = info[(info[\"DOSE_LEVEL\"].isin([\"Middle\",\"High\"])) & (info[\"SACRI_PERIOD\"].isin([\"4 day\", \"8 day\", \"15 day\", \"29 day\"]))]\n",
    "early_info = test_info[test_info[\"SACRI_PERIOD\"].isin([\"4 day\", \"8 day\"])]\n",
    "late_info = test_info[test_info[\"SACRI_PERIOD\"].isin([\"15 day\", \"29 day\"])]"
   ]
  },
  {
   "cell_type": "code",
   "execution_count": null,
   "metadata": {},
   "outputs": [],
   "source": [
    "# set labels\n",
    "set_compounds_late=set(late_info[\"COMPOUND_NAME\"].tolist())\n",
    "compound_label = {}\n",
    "for com in late_info[\"COMPOUND_NAME\"].unique():\n",
    "    compound_label[com] = late_info[late_info[\"COMPOUND_NAME\"] == com][lst_finding].mean().to_numpy() > 0\n",
    "early_label = np.array([compound_label.get(com, [np.nan]*len(lst_finding)) for com in early_info[\"COMPOUND_NAME\"].to_numpy()])\n",
    "df_y = pd.DataFrame(early_label, columns=lst_finding)\n",
    "df_y[\"INDEX\"]=early_info.index.tolist()\n",
    "df_y[\"FOLD\"]=early_info[\"FOLD\"].tolist()\n",
    "df_y = df_y.dropna()"
   ]
  },
  {
   "cell_type": "code",
   "execution_count": null,
   "metadata": {},
   "outputs": [],
   "source": [
    "# early information\n",
    "early_info[\"INDEX\"]=early_info.index.tolist()\n",
    "early_info = early_info.loc[:,lst_finding+[\"INDEX\"]+[\"FOLD\"]]"
   ]
  },
  {
   "cell_type": "code",
   "execution_count": null,
   "metadata": {},
   "outputs": [],
   "source": [
    "# export\n",
    "df_y.to_csv(f\"{root}/data/processed/prognosis.csv\")\n",
    "early_info.to_csv(f\"{root}/data/processed/prognosis_early.csv\")"
   ]
  },
  {
   "cell_type": "markdown",
   "metadata": {},
   "source": [
    "# Evaluate"
   ]
  },
  {
   "cell_type": "code",
   "execution_count": null,
   "metadata": {},
   "outputs": [],
   "source": []
  },
  {
   "cell_type": "markdown",
   "metadata": {},
   "source": [
    "# Plot"
   ]
  },
  {
   "cell_type": "code",
   "execution_count": null,
   "metadata": {},
   "outputs": [],
   "source": []
  }
 ],
 "metadata": {
  "kernelspec": {
   "display_name": "base",
   "language": "python",
   "name": "python3"
  },
  "language_info": {
   "name": "python",
   "version": "3.10.11"
  }
 },
 "nbformat": 4,
 "nbformat_minor": 2
}
